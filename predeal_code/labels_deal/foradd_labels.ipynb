{
 "cells": [
  {
   "cell_type": "code",
   "execution_count": 2,
   "metadata": {},
   "outputs": [
    {
     "name": "stdout",
     "output_type": "stream",
     "text": [
      "所有txt文件创建完毕。\n"
     ]
    }
   ],
   "source": [
    "import os\n",
    "from concurrent.futures import ThreadPoolExecutor\n",
    "\n",
    "image_path = r'/home/xuewenmei/zipdata/bendi_test/1'\n",
    "txt_path = r'/home/xuewenmei/zipdata/bendi_test/ca_labels'\n",
    "\n",
    "if not os.path.exists(txt_path):\n",
    "    os.makedirs(txt_path)\n",
    "\n",
    "def create_txt_file(filename):\n",
    "    file_base, file_extension = os.path.splitext(filename)\n",
    "    txt_file_path = os.path.join(txt_path, file_base + '_label.txt')\n",
    "\n",
    "    with open(txt_file_path, 'w') as file:\n",
    "        file.write('1')\n",
    "\n",
    "with ThreadPoolExecutor() as executor:\n",
    "    for filename in os.listdir(image_path):\n",
    "        if filename.endswith('.jpg') or filename.endswith('.png'):\n",
    "            executor.submit(create_txt_file, filename)\n",
    "\n",
    "print(\"所有txt文件创建完毕。\")"
   ]
  },
  {
   "cell_type": "code",
   "execution_count": 4,
   "metadata": {},
   "outputs": [
    {
     "name": "stdout",
     "output_type": "stream",
     "text": [
      "所有txt文件创建完毕。\n"
     ]
    }
   ],
   "source": [
    "###双视角打标签用\n",
    "import os\n",
    "from concurrent.futures import ThreadPoolExecutor\n",
    "\n",
    "image_path = r'/home/xuewenmei/zipdata/cbis+chinrename/1'\n",
    "txt_path = r'/home/xuewenmei/zipdata/cbis+chinrename/ca_labels'\n",
    "\n",
    "if not os.path.exists(txt_path):\n",
    "    os.makedirs(txt_path)\n",
    "\n",
    "def create_txt_file(filename):\n",
    "    # file_base, file_extension = os.path.splitext(filename)######\n",
    "    txt_file_path = os.path.join(txt_path, filename + '_label.txt')\n",
    "\n",
    "    with open(txt_file_path, 'w') as file:\n",
    "        file.write('1')\n",
    "\n",
    "with ThreadPoolExecutor() as executor:\n",
    "    for filename in os.listdir(image_path):\n",
    "        # if filename.endswith('.jpg') or filename.endswith('.png'):#####\n",
    "            executor.submit(create_txt_file, filename)\n",
    "\n",
    "print(\"所有txt文件创建完毕。\")"
   ]
  }
 ],
 "metadata": {
  "kernelspec": {
   "display_name": "meienvpy3.8",
   "language": "python",
   "name": "python3"
  },
  "language_info": {
   "codemirror_mode": {
    "name": "ipython",
    "version": 3
   },
   "file_extension": ".py",
   "mimetype": "text/x-python",
   "name": "python",
   "nbconvert_exporter": "python",
   "pygments_lexer": "ipython3",
   "version": "3.8.19"
  }
 },
 "nbformat": 4,
 "nbformat_minor": 2
}
